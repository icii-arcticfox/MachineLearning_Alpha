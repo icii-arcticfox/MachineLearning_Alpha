{
  "cells": [
    {
      "cell_type": "code",
      "execution_count": null,
      "id": "afc62e9e",
      "metadata": {},
      "outputs": [],
      "source": [
        "#[ DontProcess ]"
      ]
    },
    {
      "cell_type": "markdown",
      "id": "0141092e",
      "metadata": {},
      "source": [
        "# Welcome Back!\n",
        "We hope you've enjoyed the Arctic Fox alpha, let's start the next steps!\n",
        "\n",
        "This Alpha step will walk through a machine learning example. You are either thinking, thta's exciting!!! or, what???"
      ]
    },
    {
      "cell_type": "markdown",
      "id": "c9b28ed4",
      "metadata": {},
      "source": [
        "# Add Machine Learning Package\n",
        "Let's add the Machine Learning package. \n",
        "\n",
        "In the Arctic Fox pane, go to Project >> Packages >> add, and enter MachineLearning into the text box that appears. "
      ]
    },
    {
      "cell_type": "markdown",
      "id": "acd1da8b",
      "metadata": {},
      "source": [
        "# Load and Look at Data"
      ]
    },
    {
      "cell_type": "markdown",
      "id": "c1cbec0d",
      "metadata": {},
      "source": [
        "As with most problems / computing effort, we first want to get our data into our workspace and take a look. "
      ]
    },
    {
      "cell_type": "markdown",
      "id": "74998670",
      "metadata": {},
      "source": [
        "Get your data using the Data automation, and load the mnist dataset as shown below. "
      ]
    },
    {
      "cell_type": "code",
      "execution_count": null,
      "id": "31903211",
      "metadata": {},
      "outputs": [],
      "source": [
        "#[ Data mnist ]#@7933209"
      ]
    },
    {
      "cell_type": "markdown",
      "id": "7ab8ddab",
      "metadata": {},
      "source": [
        "Now, let's take a look. Add in a visualize automation and pass in training images, with an amount. "
      ]
    },
    {
      "cell_type": "code",
      "execution_count": null,
      "id": "52017406",
      "metadata": {},
      "outputs": [],
      "source": [
        "#[ Visualize --trainingImages #? ]"
      ]
    },
    {
      "cell_type": "markdown",
      "id": "0f5b961b",
      "metadata": {},
      "source": [
        "### Let's Have Some Fun! "
      ]
    },
    {
      "cell_type": "markdown",
      "id": "240ae544",
      "metadata": {},
      "source": [
        "Arctic Fox accomodates changes to automations as you write them. Change the dataset to cifar10 and fashion. Then, move off the line, Arctic Fox will run, and then run the file to see some different datasets. "
      ]
    },
    {
      "cell_type": "markdown",
      "id": "55149481",
      "metadata": {},
      "source": [
        "Once you're done having fun..... choose which dataset you want to use, and set the Data automation accordingly. Hint, mnist is the easiest to train on..."
      ]
    },
    {
      "cell_type": "markdown",
      "id": "d2774661",
      "metadata": {},
      "source": [
        "# Create a Neural Network"
      ]
    },
    {
      "cell_type": "markdown",
      "id": "50191815",
      "metadata": {},
      "source": [
        "First, remove the Visualize automation. Just cut the automation by clicking onto the automation line and pressing ctrl+x (windows) or cmd+x (mac). "
      ]
    },
    {
      "cell_type": "markdown",
      "id": "9159db8b",
      "metadata": {},
      "source": [
        "Now, add a NeuralNetwork automation and set the denseLayers (number of layers), denseStart (number of neurons in the first layer), and denseEnd (number of neurons in the second layer). We've given our example, feel free to use your own values."
      ]
    },
    {
      "cell_type": "code",
      "execution_count": null,
      "id": "95ec214e",
      "metadata": {},
      "outputs": [],
      "source": [
        "#[ NeuralNetwork --denseLayers 16 --denseStart 128 --denseEnd 16  ]"
      ]
    },
    {
      "cell_type": "markdown",
      "id": "9c983c9b",
      "metadata": {},
      "source": [
        "# Add Functions"
      ]
    },
    {
      "cell_type": "markdown",
      "id": "34ab38a7",
      "metadata": {},
      "source": [
        "Let's \"functionize\" this file. Right above the NeuralNetwork automation, but below data, add a function declaration, NN1, as seen below: Also, indent the NeuralNetwork autoamtion 1 tab."
      ]
    },
    {
      "cell_type": "code",
      "execution_count": null,
      "id": "8b36a4dc",
      "metadata": {},
      "outputs": [],
      "source": [
        "#[ Data mnist ]\n",
        "\n",
        "def NN1():\n",
        "    #[ NeuralNetwork --denseLayers 16 --denseStart 128 --denseEnd 16  ]"
      ]
    },
    {
      "cell_type": "markdown",
      "id": "90e5e5d8",
      "metadata": {},
      "source": [
        "Next, add a second function, NN2, as seen below:"
      ]
    },
    {
      "cell_type": "code",
      "execution_count": null,
      "id": "a48285e8",
      "metadata": {},
      "outputs": [],
      "source": [
        "def NN2():"
      ]
    },
    {
      "cell_type": "markdown",
      "id": "b30e22dd",
      "metadata": {},
      "source": [
        "Under, NN2, add the following automations, indented correctly, to create a chain of neural network automations:  "
      ]
    },
    {
      "cell_type": "code",
      "execution_count": null,
      "id": "17ad523d",
      "metadata": {},
      "outputs": [],
      "source": [
        "    #[ NeuralNetwork --denseLayers 4 --denseStart 64 ]"
      ]
    },
    {
      "cell_type": "code",
      "execution_count": null,
      "id": "e1064e9b",
      "metadata": {},
      "outputs": [],
      "source": [
        "    #[ NeuralNetwork --denseLayers 4 --denseStart 32 ]"
      ]
    },
    {
      "cell_type": "code",
      "execution_count": null,
      "id": "c0a2fcbc",
      "metadata": {},
      "outputs": [],
      "source": [
        "    #[ NeuralNetwork --denseLayers 8 --denseStart 16 ]"
      ]
    },
    {
      "cell_type": "markdown",
      "id": "d02acba8",
      "metadata": {},
      "source": [
        "### Let's Call Our Function"
      ]
    },
    {
      "cell_type": "markdown",
      "id": "56584ae3",
      "metadata": {},
      "source": [
        "Now, after the functions, let's call one the functions and assign the result. You can use NN1() or NN2(). Use a NeuralNetwork automation as shown below to specify the mosel variable in your script."
      ]
    },
    {
      "cell_type": "code",
      "execution_count": null,
      "id": "97a65086",
      "metadata": {},
      "outputs": [],
      "source": [
        "myModel = NN1() #[ NeuralNetwork ]"
      ]
    },
    {
      "cell_type": "markdown",
      "id": "cc50b4d5",
      "metadata": {},
      "source": [
        "# Train and Visualize"
      ]
    },
    {
      "cell_type": "markdown",
      "id": "73c4b5b9",
      "metadata": {},
      "source": [
        "Now, let's finish up our machine learning example. Add a train automation, and specify the number of epochs. Then, add a Visualize automation and add in the loss and accuracy. These are shown below. "
      ]
    },
    {
      "cell_type": "code",
      "execution_count": null,
      "id": "90988058",
      "metadata": {},
      "outputs": [],
      "source": [
        "#[ Train --epochs 5 ]\n",
        "\n",
        "#[ Visualize --loss --accuracy ]"
      ]
    },
    {
      "cell_type": "markdown",
      "id": "c4dc253c",
      "metadata": {},
      "source": [
        "# Run Your Sript\n",
        "\n",
        "That's it! Run your script, watch your neural network train, and see the results!\n",
        "\n",
        "Once you're done, the next exercise will take creating automations to the next level!"
      ]
    }
  ],
  "metadata": {
    "language_info": {
      "name": "python"
    },
    "orig_nbformat": 4
  },
  "nbformat": 4,
  "nbformat_minor": 5
}
